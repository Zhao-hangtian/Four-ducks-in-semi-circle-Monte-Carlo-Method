{
 "cells": [
  {
   "cell_type": "code",
   "execution_count": 1,
   "metadata": {},
   "outputs": [],
   "source": [
    "\"\"\"\n",
    "author: 赵杭天 @ SINAP\n",
    "date: 2019.8.86\n",
    "\"\"\"\n",
    "import numpy as np\n",
    "import matplotlib.pyplot as plt\n",
    "import random\n",
    "import os"
   ]
  },
  {
   "cell_type": "code",
   "execution_count": 2,
   "metadata": {},
   "outputs": [],
   "source": [
    "# 根据你的计算机性能时间修改采样数,这决定了计算时间(sample_num)\n",
    "sample_num = 10000*16*4\n",
    "xx = np.array([random.random()-0.5 for i in range(sample_num)])\n",
    "yy = np.array([random.choice([1, -1])*np.sqrt(0.5**2-xx[i]**2)*random.random() for i in range(len(xx))])"
   ]
  },
  {
   "cell_type": "code",
   "execution_count": 3,
   "metadata": {},
   "outputs": [
    {
     "name": "stdout",
     "output_type": "stream",
     "text": [
      "(0.2008448897813685, 0.03962637862371878)\n",
      "(-0.34010471319945634, -0.20119591994657227)\n",
      "(-0.29679665764259955, -0.0968709610924799)\n",
      "(0.26836952735581354, 0.3606777356207143)\n",
      "(0.33039570717006417, -0.018156378167732166)\n",
      "(0.16342082402698832, -0.40061986749355666)\n",
      "(0.47242536365121623, -0.014152163902939717)\n",
      "(0.3808843690325415, 0.1360950737641591)\n",
      "(0.26678817796624776, 0.09584330358204363)\n",
      "(-0.4680732558488545, -0.04141602740924838)\n",
      "(0.22507176615613678, 0.05328757454270317)\n",
      "(-0.130169666192666, -0.40441729170684665)\n",
      "(0.06333268541990644, 0.029594204785379472)\n",
      "(-0.16113789559275216, -0.24295417559694196)\n",
      "(0.3838365492117176, 0.31486337882682985)\n",
      "(-0.39362056105191523, 0.07259820049110674)\n"
     ]
    }
   ],
   "source": [
    "# 打印前16组点\n",
    "for i in range(0,16):\n",
    "    print((xx[i], yy[i]))"
   ]
  },
  {
   "cell_type": "code",
   "execution_count": 4,
   "metadata": {},
   "outputs": [],
   "source": [
    "def is_exist_solve(xx, yy):\n",
    "    theta = np.arange(0.0,np.pi,0.01)\n",
    "    p1 = np.array([xx[0],yy[0]])\n",
    "    p2 = np.array([xx[1],yy[1]])\n",
    "    p3 = np.array([xx[2],yy[2]])\n",
    "    p4 = np.array([xx[3],yy[3]])\n",
    "    for t in theta:\n",
    "        p0 = np.array([0.5*np.cos(t), 0.5*np.sin(t)])\n",
    "        # 向量法判定点相对直线的位置\n",
    "        if (np.cross(p1,p0)>=0. and np.cross(p2,p0)>=0. and  np.cross(p3,p0)>=0. and np.cross(p4,p0)>=0.) or (np.cross(p1,p0)<=0. and np.cross(p2,p0)<=0. and  np.cross(p3,p0)<=0. and np.cross(p4,p0)<=0.):\n",
    "            return True\n",
    "    return False\n",
    "\n",
    "def get_exist_solve(xx, yy):\n",
    "    theta = np.arange(0.0,np.pi,0.01)\n",
    "    p1 = np.array([xx[0],yy[0]])\n",
    "    p2 = np.array([xx[1],yy[1]])\n",
    "    p3 = np.array([xx[2],yy[2]])\n",
    "    p4 = np.array([xx[3],yy[3]])\n",
    "    for t in theta:\n",
    "        p0 = np.array([0.5*np.cos(t), 0.5*np.sin(t)])\n",
    "        # 向量法判定点相对直线的位置\n",
    "        if (np.cross(p1,p0)>=0. and np.cross(p2,p0)>=0. and  np.cross(p3,p0)>=0. and np.cross(p4,p0)>=0.) or (np.cross(p1,p0)<=0. and np.cross(p2,p0)<=0. and  np.cross(p3,p0)<=0. and np.cross(p4,p0)<=0.):\n",
    "                print('found solution')\n",
    "                return p0\n",
    "    print(\"can't find solution\")\n",
    "    return 0,0"
   ]
  },
  {
   "cell_type": "code",
   "execution_count": 5,
   "metadata": {},
   "outputs": [
    {
     "name": "stdout",
     "output_type": "stream",
     "text": [
      "can't find solution\n"
     ]
    },
    {
     "data": {
      "image/png": "[encoded data removed]",
      "text/plain": [
       "<Figure size 432x288 with 1 Axes>"
      ]
     },
     "metadata": {
      "needs_background": "light"
     },
     "output_type": "display_data"
    }
   ],
   "source": [
    "\"\"\"算法可视化\n",
    "可以多次运行本代码块，直观的体验分割直线存在的概率\n",
    "\"\"\"\n",
    "fig = plt.figure()\n",
    "ax1 = fig.add_subplot(111)\n",
    "# 随机取4个点为一组进行测试\n",
    "rand_s = random.randint(0,(len(xx)-4))\n",
    "rand_e = rand_s + 4\n",
    "#设置标题\n",
    "ax1.set_title('Scatter Plot')\n",
    "#设置X轴标签\n",
    "plt.xlabel('X')\n",
    "#设置Y轴标签\n",
    "plt.ylabel('Y')\n",
    "#画散点图\n",
    "ax1.scatter(xx[rand_s:rand_e],yy[rand_s:rand_e],c = 'y',marker = 'o')\n",
    "#设置图标\n",
    "plt.legend('x1')\n",
    "#画圆\n",
    "r = 0.5\n",
    "a, b = (0., 0.)\n",
    "theta = np.arange(0, 2*np.pi, 0.01)\n",
    "x = a + r * np.cos(theta)\n",
    "y = b + r * np.sin(theta)\n",
    "ax1.plot(x, y)\n",
    "#找直线\n",
    "px, py = get_exist_solve(xx[rand_s:rand_e],yy[rand_s:rand_e])\n",
    "ax1.plot([px, -px],[py, -py ])\n",
    "ax1.set_aspect(1)\n"
   ]
  },
  {
   "cell_type": "code",
   "execution_count": 6,
   "metadata": {
    "scrolled": true
   },
   "outputs": [
    {
     "name": "stdout",
     "output_type": "stream",
     "text": [
      "Parent process 18322.\n",
      "Waiting for all subprocesses done...\n",
      "All subprocesses done.\n"
     ]
    }
   ],
   "source": [
    "\"\"\"并行计算\"\"\"\n",
    "# 划分子任务\n",
    "def process(xx, yy):\n",
    "    exist_num = 0\n",
    "    for i in range(0,len(xx),4):\n",
    "        if is_exist_solve(xx[i:i+4],yy[i:i+4]):\n",
    "            exist_num += 1\n",
    "    return exist_num, i\n",
    "\n",
    "from multiprocessing import Pool\n",
    "\n",
    "# 调用的cpu数量\n",
    "cpu_num = 16\n",
    "\n",
    "# 保存结果\n",
    "result = [[0,0] for i in range(cpu_num)]\n",
    "\n",
    "# 创建进程池并启动计算\n",
    "print('Parent process %s.' % os.getpid())\n",
    "p = Pool(cpu_num)\n",
    "for i in range(cpu_num):\n",
    "    result[i] = p.apply_async(process, args=(xx[int(len(xx)/cpu_num)*i:int(len(xx)/cpu_num)*(i+1)], yy[int(len(yy)/cpu_num)*i:int(len(xx)/cpu_num)*(i+1)]))\n",
    "print('Waiting for all subprocesses done...')\n",
    "p.close()\n",
    "p.join()\n",
    "print('All subprocesses done.')"
   ]
  },
  {
   "cell_type": "code",
   "execution_count": 7,
   "metadata": {},
   "outputs": [
    {
     "name": "stdout",
     "output_type": "stream",
     "text": [
      "final result 0.49573707370737075\n"
     ]
    }
   ],
   "source": [
    "# 取回结果\n",
    "hit = 0\n",
    "total = 0\n",
    "for r in result:\n",
    "    hit += r.get()[0]\n",
    "    total += r.get()[1]\n",
    "    \n",
    "print('final result' ,hit/total*4)"
   ]
  }
 ],
 "metadata": {
  "kernelspec": {
   "display_name": "Python 3",
   "language": "python",
   "name": "python3"
  },
  "language_info": {
   "codemirror_mode": {
    "name": "ipython",
    "version": 3
   },
   "file_extension": ".py",
   "mimetype": "text/x-python",
   "name": "python",
   "nbconvert_exporter": "python",
   "pygments_lexer": "ipython3",
   "version": "3.7.3"
  }
 },
 "nbformat": 4,
 "nbformat_minor": 2
}
